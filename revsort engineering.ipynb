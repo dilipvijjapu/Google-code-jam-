{
 "cells": [
  {
   "cell_type": "code",
   "execution_count": 12,
   "metadata": {},
   "outputs": [
    {
     "name": "stdout",
     "output_type": "stream",
     "text": [
      "1\n",
      "4 6\n",
      "Case #1: 1 3 4 2 \n"
     ]
    }
   ],
   "source": [
    "def crl(n):\n",
    "    li=[]\n",
    "    for i in range(1,n+1):\n",
    "        li.append(i)\n",
    "    return li\n",
    "\n",
    "def getli(n,p):\n",
    "    \n",
    "    if p < n-1:\n",
    "        return []\n",
    "    li=[]\n",
    "    t=0\n",
    "    c=1\n",
    "    for i in range(n-1,0,-1):\n",
    "        c+=1\n",
    "        \n",
    "        if t+c+i-1 >= p:\n",
    "            r=p-t-i+1\n",
    "            li.append(r)\n",
    "            for k in range(i-1):\n",
    "                li.append(1)\n",
    "            t=p\n",
    "            break\n",
    "        t+=c\n",
    "        li.append(c)\n",
    "    if t<p:\n",
    "        return []\n",
    "    return li\n",
    "def final(s,f):\n",
    "    len1=len(f)\n",
    "    for i in range(len1):\n",
    "        x=len(s)-(i+2)\n",
    "        o=x+f[i]\n",
    "        s=s[:x]+list(reversed(s[x:o]))+s[o:]\n",
    "    return s\n",
    "\n",
    "\n",
    "t=int(input(\"\"))\n",
    "\n",
    "for i in range(t):\n",
    "    result=\"\"\n",
    "    n,p=input().split()\n",
    "    s=crl(int(n))\n",
    "    f=getli(int(n),int(p))\n",
    "    fi=final(s,f)\n",
    "    if f:\n",
    "        for y in fi:\n",
    "            result+= str(y)+\" \"\n",
    "    else:\n",
    "        result=\" IMPOSSIBLE\"\n",
    "    print(\"Case #\"+str(i+1)+\": \"+str(result))\n",
    "\n",
    "\n",
    "\n",
    "\n",
    "\n",
    "\n",
    "\n",
    "\n",
    "\n",
    "\n",
    "\n"
   ]
  },
  {
   "cell_type": "code",
   "execution_count": null,
   "metadata": {},
   "outputs": [],
   "source": []
  }
 ],
 "metadata": {
  "kernelspec": {
   "display_name": "Python 3",
   "language": "python",
   "name": "python3"
  },
  "language_info": {
   "codemirror_mode": {
    "name": "ipython",
    "version": 3
   },
   "file_extension": ".py",
   "mimetype": "text/x-python",
   "name": "python",
   "nbconvert_exporter": "python",
   "pygments_lexer": "ipython3",
   "version": "3.7.6"
  }
 },
 "nbformat": 4,
 "nbformat_minor": 4
}
