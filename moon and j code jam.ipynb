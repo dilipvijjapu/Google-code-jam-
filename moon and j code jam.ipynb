{
 "cells": [
  {
   "cell_type": "code",
   "execution_count": 7,
   "metadata": {},
   "outputs": [
    {
     "name": "stdout",
     "output_type": "stream",
     "text": [
      " 4\n",
      "2 3 CJ??CC?\n",
      "4 2 CJCJ\n",
      "1 3 C?J\n",
      "2 5 ??J???\n",
      "Case #1 5\n",
      "Case #2 10\n",
      "Case #3 1\n",
      "Case #4 0\n"
     ]
    }
   ],
   "source": [
    "def penal(x,y,st):\n",
    "    cos=0\n",
    "    prev='I'\n",
    "    for i in range(len(st)):\n",
    "        if st[i] == 'C':\n",
    "            if prev == 'J':\n",
    "                cos+=y\n",
    "            prev = 'C'\n",
    "        elif st[i] == 'J':\n",
    "            if prev == 'C':\n",
    "                cos+=x\n",
    "            prev = 'J'\n",
    "    return cos\n",
    "            \n",
    "    \n",
    "\n",
    "\n",
    "\n",
    "\n",
    "\n",
    "\n",
    "\n",
    "\n",
    "t = int(input(\" \"))\n",
    "costs=[]\n",
    "for i in range(t):\n",
    "    x,y,st=input().split()\n",
    "    costs.append(penal(int(x),int(y),st))\n",
    "    \n",
    "for i in range(t):\n",
    "    print(\"Case #:\"+str(i+1)+\" \"+str(costs[i]))"
   ]
  },
  {
   "cell_type": "code",
   "execution_count": null,
   "metadata": {},
   "outputs": [],
   "source": []
  },
  {
   "cell_type": "code",
   "execution_count": null,
   "metadata": {},
   "outputs": [],
   "source": []
  }
 ],
 "metadata": {
  "kernelspec": {
   "display_name": "Python 3",
   "language": "python",
   "name": "python3"
  },
  "language_info": {
   "codemirror_mode": {
    "name": "ipython",
    "version": 3
   },
   "file_extension": ".py",
   "mimetype": "text/x-python",
   "name": "python",
   "nbconvert_exporter": "python",
   "pygments_lexer": "ipython3",
   "version": "3.7.6"
  }
 },
 "nbformat": 4,
 "nbformat_minor": 4
}
